{
  "nbformat": 4,
  "nbformat_minor": 0,
  "metadata": {
    "colab": {
      "provenance": [],
      "collapsed_sections": [],
      "toc_visible": true
    },
    "kernelspec": {
      "name": "python3",
      "display_name": "Python 3"
    },
    "language_info": {
      "name": "python"
    }
  },
  "cells": [
    {
      "cell_type": "code",
      "metadata": {
        "colab": {
          "base_uri": "https://localhost:8080/"
        },
        "id": "t9Xc-TSSz5ej",
        "outputId": "dc2cb1c5-7503-41f0-996c-9ddc38ca69df"
      },
      "source": [
        "! pip install concepts"
      ],
      "execution_count": null,
      "outputs": [
        {
          "output_type": "stream",
          "name": "stdout",
          "text": [
            "Looking in indexes: https://pypi.org/simple, https://us-python.pkg.dev/colab-wheels/public/simple/\n",
            "Collecting concepts\n",
            "  Downloading concepts-0.9.2-py2.py3-none-any.whl (31 kB)\n",
            "Requirement already satisfied: graphviz~=0.7 in /usr/local/lib/python3.7/dist-packages (from concepts) (0.10.1)\n",
            "Collecting bitsets~=0.7\n",
            "  Downloading bitsets-0.8.4-py3-none-any.whl (13 kB)\n",
            "Installing collected packages: bitsets, concepts\n",
            "Successfully installed bitsets-0.8.4 concepts-0.9.2\n"
          ]
        }
      ]
    },
    {
      "cell_type": "code",
      "metadata": {
        "id": "Z6HkK2d40C5i"
      },
      "source": [
        "from concepts import Context, load_cxt, make_context, load_csv\n",
        "import numpy as np\n",
        "import pandas as pd"
      ],
      "execution_count": null,
      "outputs": []
    },
    {
      "cell_type": "code",
      "metadata": {
        "id": "D0el6VtsWiqE"
      },
      "source": [
        "atr_size = 10\n",
        "arr = np.random.randint(2, size=(atr_size, atr_size))\n",
        "df = pd.DataFrame(data=arr, columns=[f'doc{i}' for i in range(atr_size)])\n",
        "new_col = [f'term{i}' for i in range(atr_size)]\n",
        "df[df == 1] = 'X'\n",
        "df[df == 0] = ''\n",
        "df.insert(loc=0, column='', value=new_col)\n",
        "df.to_csv('./dummy.csv', index=False)"
      ],
      "execution_count": null,
      "outputs": []
    },
    {
      "cell_type": "code",
      "metadata": {
        "id": "xd3TOdO5osOs",
        "colab": {
          "base_uri": "https://localhost:8080/"
        },
        "outputId": "da0e54e1-49ef-4623-c545-198b48431923"
      },
      "source": [
        "context = load_csv('./dummy.csv')\n",
        "context"
      ],
      "execution_count": null,
      "outputs": [
        {
          "output_type": "execute_result",
          "data": {
            "text/plain": [
              "<Context object mapping 10 objects to 10 properties [633be840] at 0x7f167882d850>"
            ]
          },
          "metadata": {},
          "execution_count": 4
        }
      ]
    },
    {
      "cell_type": "code",
      "metadata": {
        "colab": {
          "base_uri": "https://localhost:8080/",
          "height": 363
        },
        "id": "4-rAsLlJDS6m",
        "outputId": "21b4691f-2617-43de-88d6-f7bb22b74dba"
      },
      "source": [
        "df"
      ],
      "execution_count": null,
      "outputs": [
        {
          "output_type": "execute_result",
          "data": {
            "text/plain": [
              "         doc0 doc1 doc2 doc3 doc4 doc5 doc6 doc7 doc8 doc9\n",
              "0  term0    X              X    X         X               \n",
              "1  term1    X              X    X    X              X    X\n",
              "2  term2                   X         X         X    X    X\n",
              "3  term3    X              X                   X    X    X\n",
              "4  term4                        X         X    X    X     \n",
              "5  term5    X                   X    X              X     \n",
              "6  term6         X    X    X    X    X         X    X     \n",
              "7  term7              X    X    X         X              X\n",
              "8  term8                             X    X    X    X     \n",
              "9  term9    X              X              X    X    X     "
            ],
            "text/html": [
              "\n",
              "  <div id=\"df-233ab481-867d-4345-b576-e9a14cc6dbab\">\n",
              "    <div class=\"colab-df-container\">\n",
              "      <div>\n",
              "<style scoped>\n",
              "    .dataframe tbody tr th:only-of-type {\n",
              "        vertical-align: middle;\n",
              "    }\n",
              "\n",
              "    .dataframe tbody tr th {\n",
              "        vertical-align: top;\n",
              "    }\n",
              "\n",
              "    .dataframe thead th {\n",
              "        text-align: right;\n",
              "    }\n",
              "</style>\n",
              "<table border=\"1\" class=\"dataframe\">\n",
              "  <thead>\n",
              "    <tr style=\"text-align: right;\">\n",
              "      <th></th>\n",
              "      <th></th>\n",
              "      <th>doc0</th>\n",
              "      <th>doc1</th>\n",
              "      <th>doc2</th>\n",
              "      <th>doc3</th>\n",
              "      <th>doc4</th>\n",
              "      <th>doc5</th>\n",
              "      <th>doc6</th>\n",
              "      <th>doc7</th>\n",
              "      <th>doc8</th>\n",
              "      <th>doc9</th>\n",
              "    </tr>\n",
              "  </thead>\n",
              "  <tbody>\n",
              "    <tr>\n",
              "      <th>0</th>\n",
              "      <td>term0</td>\n",
              "      <td>X</td>\n",
              "      <td></td>\n",
              "      <td></td>\n",
              "      <td>X</td>\n",
              "      <td>X</td>\n",
              "      <td></td>\n",
              "      <td>X</td>\n",
              "      <td></td>\n",
              "      <td></td>\n",
              "      <td></td>\n",
              "    </tr>\n",
              "    <tr>\n",
              "      <th>1</th>\n",
              "      <td>term1</td>\n",
              "      <td>X</td>\n",
              "      <td></td>\n",
              "      <td></td>\n",
              "      <td>X</td>\n",
              "      <td>X</td>\n",
              "      <td>X</td>\n",
              "      <td></td>\n",
              "      <td></td>\n",
              "      <td>X</td>\n",
              "      <td>X</td>\n",
              "    </tr>\n",
              "    <tr>\n",
              "      <th>2</th>\n",
              "      <td>term2</td>\n",
              "      <td></td>\n",
              "      <td></td>\n",
              "      <td></td>\n",
              "      <td>X</td>\n",
              "      <td></td>\n",
              "      <td>X</td>\n",
              "      <td></td>\n",
              "      <td>X</td>\n",
              "      <td>X</td>\n",
              "      <td>X</td>\n",
              "    </tr>\n",
              "    <tr>\n",
              "      <th>3</th>\n",
              "      <td>term3</td>\n",
              "      <td>X</td>\n",
              "      <td></td>\n",
              "      <td></td>\n",
              "      <td>X</td>\n",
              "      <td></td>\n",
              "      <td></td>\n",
              "      <td></td>\n",
              "      <td>X</td>\n",
              "      <td>X</td>\n",
              "      <td>X</td>\n",
              "    </tr>\n",
              "    <tr>\n",
              "      <th>4</th>\n",
              "      <td>term4</td>\n",
              "      <td></td>\n",
              "      <td></td>\n",
              "      <td></td>\n",
              "      <td></td>\n",
              "      <td>X</td>\n",
              "      <td></td>\n",
              "      <td>X</td>\n",
              "      <td>X</td>\n",
              "      <td>X</td>\n",
              "      <td></td>\n",
              "    </tr>\n",
              "    <tr>\n",
              "      <th>5</th>\n",
              "      <td>term5</td>\n",
              "      <td>X</td>\n",
              "      <td></td>\n",
              "      <td></td>\n",
              "      <td></td>\n",
              "      <td>X</td>\n",
              "      <td>X</td>\n",
              "      <td></td>\n",
              "      <td></td>\n",
              "      <td>X</td>\n",
              "      <td></td>\n",
              "    </tr>\n",
              "    <tr>\n",
              "      <th>6</th>\n",
              "      <td>term6</td>\n",
              "      <td></td>\n",
              "      <td>X</td>\n",
              "      <td>X</td>\n",
              "      <td>X</td>\n",
              "      <td>X</td>\n",
              "      <td>X</td>\n",
              "      <td></td>\n",
              "      <td>X</td>\n",
              "      <td>X</td>\n",
              "      <td></td>\n",
              "    </tr>\n",
              "    <tr>\n",
              "      <th>7</th>\n",
              "      <td>term7</td>\n",
              "      <td></td>\n",
              "      <td></td>\n",
              "      <td>X</td>\n",
              "      <td>X</td>\n",
              "      <td>X</td>\n",
              "      <td></td>\n",
              "      <td>X</td>\n",
              "      <td></td>\n",
              "      <td></td>\n",
              "      <td>X</td>\n",
              "    </tr>\n",
              "    <tr>\n",
              "      <th>8</th>\n",
              "      <td>term8</td>\n",
              "      <td></td>\n",
              "      <td></td>\n",
              "      <td></td>\n",
              "      <td></td>\n",
              "      <td></td>\n",
              "      <td>X</td>\n",
              "      <td>X</td>\n",
              "      <td>X</td>\n",
              "      <td>X</td>\n",
              "      <td></td>\n",
              "    </tr>\n",
              "    <tr>\n",
              "      <th>9</th>\n",
              "      <td>term9</td>\n",
              "      <td>X</td>\n",
              "      <td></td>\n",
              "      <td></td>\n",
              "      <td>X</td>\n",
              "      <td></td>\n",
              "      <td></td>\n",
              "      <td>X</td>\n",
              "      <td>X</td>\n",
              "      <td>X</td>\n",
              "      <td></td>\n",
              "    </tr>\n",
              "  </tbody>\n",
              "</table>\n",
              "</div>\n",
              "      <button class=\"colab-df-convert\" onclick=\"convertToInteractive('df-233ab481-867d-4345-b576-e9a14cc6dbab')\"\n",
              "              title=\"Convert this dataframe to an interactive table.\"\n",
              "              style=\"display:none;\">\n",
              "        \n",
              "  <svg xmlns=\"http://www.w3.org/2000/svg\" height=\"24px\"viewBox=\"0 0 24 24\"\n",
              "       width=\"24px\">\n",
              "    <path d=\"M0 0h24v24H0V0z\" fill=\"none\"/>\n",
              "    <path d=\"M18.56 5.44l.94 2.06.94-2.06 2.06-.94-2.06-.94-.94-2.06-.94 2.06-2.06.94zm-11 1L8.5 8.5l.94-2.06 2.06-.94-2.06-.94L8.5 2.5l-.94 2.06-2.06.94zm10 10l.94 2.06.94-2.06 2.06-.94-2.06-.94-.94-2.06-.94 2.06-2.06.94z\"/><path d=\"M17.41 7.96l-1.37-1.37c-.4-.4-.92-.59-1.43-.59-.52 0-1.04.2-1.43.59L10.3 9.45l-7.72 7.72c-.78.78-.78 2.05 0 2.83L4 21.41c.39.39.9.59 1.41.59.51 0 1.02-.2 1.41-.59l7.78-7.78 2.81-2.81c.8-.78.8-2.07 0-2.86zM5.41 20L4 18.59l7.72-7.72 1.47 1.35L5.41 20z\"/>\n",
              "  </svg>\n",
              "      </button>\n",
              "      \n",
              "  <style>\n",
              "    .colab-df-container {\n",
              "      display:flex;\n",
              "      flex-wrap:wrap;\n",
              "      gap: 12px;\n",
              "    }\n",
              "\n",
              "    .colab-df-convert {\n",
              "      background-color: #E8F0FE;\n",
              "      border: none;\n",
              "      border-radius: 50%;\n",
              "      cursor: pointer;\n",
              "      display: none;\n",
              "      fill: #1967D2;\n",
              "      height: 32px;\n",
              "      padding: 0 0 0 0;\n",
              "      width: 32px;\n",
              "    }\n",
              "\n",
              "    .colab-df-convert:hover {\n",
              "      background-color: #E2EBFA;\n",
              "      box-shadow: 0px 1px 2px rgba(60, 64, 67, 0.3), 0px 1px 3px 1px rgba(60, 64, 67, 0.15);\n",
              "      fill: #174EA6;\n",
              "    }\n",
              "\n",
              "    [theme=dark] .colab-df-convert {\n",
              "      background-color: #3B4455;\n",
              "      fill: #D2E3FC;\n",
              "    }\n",
              "\n",
              "    [theme=dark] .colab-df-convert:hover {\n",
              "      background-color: #434B5C;\n",
              "      box-shadow: 0px 1px 3px 1px rgba(0, 0, 0, 0.15);\n",
              "      filter: drop-shadow(0px 1px 2px rgba(0, 0, 0, 0.3));\n",
              "      fill: #FFFFFF;\n",
              "    }\n",
              "  </style>\n",
              "\n",
              "      <script>\n",
              "        const buttonEl =\n",
              "          document.querySelector('#df-233ab481-867d-4345-b576-e9a14cc6dbab button.colab-df-convert');\n",
              "        buttonEl.style.display =\n",
              "          google.colab.kernel.accessAllowed ? 'block' : 'none';\n",
              "\n",
              "        async function convertToInteractive(key) {\n",
              "          const element = document.querySelector('#df-233ab481-867d-4345-b576-e9a14cc6dbab');\n",
              "          const dataTable =\n",
              "            await google.colab.kernel.invokeFunction('convertToInteractive',\n",
              "                                                     [key], {});\n",
              "          if (!dataTable) return;\n",
              "\n",
              "          const docLinkHtml = 'Like what you see? Visit the ' +\n",
              "            '<a target=\"_blank\" href=https://colab.research.google.com/notebooks/data_table.ipynb>data table notebook</a>'\n",
              "            + ' to learn more about interactive tables.';\n",
              "          element.innerHTML = '';\n",
              "          dataTable['output_type'] = 'display_data';\n",
              "          await google.colab.output.renderOutput(dataTable, element);\n",
              "          const docLink = document.createElement('div');\n",
              "          docLink.innerHTML = docLinkHtml;\n",
              "          element.appendChild(docLink);\n",
              "        }\n",
              "      </script>\n",
              "    </div>\n",
              "  </div>\n",
              "  "
            ]
          },
          "metadata": {},
          "execution_count": 5
        }
      ]
    },
    {
      "cell_type": "code",
      "metadata": {
        "colab": {
          "base_uri": "https://localhost:8080/",
          "height": 804
        },
        "id": "7Jzu4aZuo_QB",
        "outputId": "8bb6001e-8a74-4df6-daac-e88e4dccd122"
      },
      "source": [
        "context.lattice.graphviz()"
      ],
      "execution_count": null,
      "outputs": [
        {
          "output_type": "execute_result",
          "data": {
            "text/plain": [
              "<graphviz.dot.Digraph at 0x7f167882d750>"
            ],
            "image/svg+xml": "<?xml version=\"1.0\" encoding=\"UTF-8\" standalone=\"no\"?>\n<!DOCTYPE svg PUBLIC \"-//W3C//DTD SVG 1.1//EN\"\n \"http://www.w3.org/Graphics/SVG/1.1/DTD/svg11.dtd\">\n<!-- Generated by graphviz version 2.40.1 (20161225.0304)\n -->\n<!-- Title: Lattice Pages: 1 -->\n<svg width=\"1306pt\" height=\"572pt\"\n viewBox=\"0.00 0.00 1306.44 572.00\" xmlns=\"http://www.w3.org/2000/svg\" xmlns:xlink=\"http://www.w3.org/1999/xlink\">\n<g id=\"graph0\" class=\"graph\" transform=\"scale(1 1) rotate(0) translate(4 568)\">\n<title>Lattice</title>\n<polygon fill=\"#ffffff\" stroke=\"transparent\" points=\"-4,4 -4,-568 1302.4365,-568 1302.4365,4 -4,4\"/>\n<!-- c0 -->\n<g id=\"node1\" class=\"node\">\n<title>c0</title>\n<ellipse fill=\"#d3d3d3\" stroke=\"#000000\" cx=\"757.4365\" cy=\"-9\" rx=\"9\" ry=\"9\"/>\n</g>\n<!-- c1 -->\n<g id=\"node2\" class=\"node\">\n<title>c1</title>\n<ellipse fill=\"#d3d3d3\" stroke=\"#000000\" cx=\"244.4365\" cy=\"-191\" rx=\"9\" ry=\"9\"/>\n</g>\n<!-- c1&#45;&gt;c0 -->\n<g id=\"edge2\" class=\"edge\">\n<title>c1&#45;&gt;c0</title>\n<path fill=\"none\" stroke=\"#000000\" d=\"M250.5819,-184.3835C267.7752,-166.3029 318.5792,-115.766 371.4365,-91 511.3306,-25.4535 704.2732,-11.7566 748.262,-9.4233\"/>\n</g>\n<!-- c1&#45;&gt;c1 -->\n<g id=\"edge1\" class=\"edge\">\n<title>c1&#45;&gt;c1</title>\n<path fill=\"none\" stroke=\"transparent\" d=\"M251.6256,-196.7827C260.6688,-201.4354 271.4365,-199.5078 271.4365,-191 271.4365,-182.4922 260.6688,-180.5646 251.6256,-185.2173\"/>\n<text text-anchor=\"middle\" x=\"245.6372\" y=\"-167.7646\" font-family=\"Times,serif\" font-size=\"14.00\" fill=\"#000000\">term0</text>\n</g>\n<!-- c2 -->\n<g id=\"node3\" class=\"node\">\n<title>c2</title>\n<ellipse fill=\"#d3d3d3\" stroke=\"#000000\" cx=\"389.4365\" cy=\"-100\" rx=\"9\" ry=\"9\"/>\n</g>\n<!-- c2&#45;&gt;c0 -->\n<g id=\"edge4\" class=\"edge\">\n<title>c2&#45;&gt;c0</title>\n<path fill=\"none\" stroke=\"#000000\" d=\"M398.5332,-97.7505C449.4467,-85.1605 698.5782,-23.5546 748.6578,-11.1708\"/>\n</g>\n<!-- c2&#45;&gt;c2 -->\n<g id=\"edge3\" class=\"edge\">\n<title>c2&#45;&gt;c2</title>\n<path fill=\"none\" stroke=\"transparent\" d=\"M396.6256,-105.7827C405.6688,-110.4354 416.4365,-108.5078 416.4365,-100 416.4365,-91.4922 405.6688,-89.5646 396.6256,-94.2173\"/>\n<text text-anchor=\"middle\" x=\"390.6372\" y=\"-76.7646\" font-family=\"Times,serif\" font-size=\"14.00\" fill=\"#000000\">term1</text>\n</g>\n<!-- c3 -->\n<g id=\"node4\" class=\"node\">\n<title>c3</title>\n<ellipse fill=\"#d3d3d3\" stroke=\"#000000\" cx=\"824.4365\" cy=\"-100\" rx=\"9\" ry=\"9\"/>\n</g>\n<!-- c3&#45;&gt;c0 -->\n<g id=\"edge6\" class=\"edge\">\n<title>c3&#45;&gt;c0</title>\n<path fill=\"none\" stroke=\"#000000\" d=\"M818.9536,-92.5531C806.3274,-75.404 775.3252,-33.2965 762.8079,-16.2955\"/>\n</g>\n<!-- c3&#45;&gt;c3 -->\n<g id=\"edge5\" class=\"edge\">\n<title>c3&#45;&gt;c3</title>\n<path fill=\"none\" stroke=\"transparent\" d=\"M831.6256,-105.7827C840.6688,-110.4354 851.4365,-108.5078 851.4365,-100 851.4365,-91.4922 840.6688,-89.5646 831.6256,-94.2173\"/>\n<text text-anchor=\"middle\" x=\"825.6372\" y=\"-76.7646\" font-family=\"Times,serif\" font-size=\"14.00\" fill=\"#000000\">term2</text>\n</g>\n<!-- c4 -->\n<g id=\"node5\" class=\"node\">\n<title>c4</title>\n<ellipse fill=\"#d3d3d3\" stroke=\"#000000\" cx=\"889.4365\" cy=\"-100\" rx=\"9\" ry=\"9\"/>\n</g>\n<!-- c4&#45;&gt;c0 -->\n<g id=\"edge8\" class=\"edge\">\n<title>c4&#45;&gt;c0</title>\n<path fill=\"none\" stroke=\"#000000\" d=\"M881.9614,-94.8467C858.8371,-78.9049 788.6144,-30.4938 765.1584,-14.3234\"/>\n</g>\n<!-- c4&#45;&gt;c4 -->\n<g id=\"edge7\" class=\"edge\">\n<title>c4&#45;&gt;c4</title>\n<path fill=\"none\" stroke=\"transparent\" d=\"M896.6256,-105.7827C905.6688,-110.4354 916.4365,-108.5078 916.4365,-100 916.4365,-91.4922 905.6688,-89.5646 896.6256,-94.2173\"/>\n<text text-anchor=\"middle\" x=\"890.6372\" y=\"-76.7646\" font-family=\"Times,serif\" font-size=\"14.00\" fill=\"#000000\">term3</text>\n</g>\n<!-- c5 -->\n<g id=\"node6\" class=\"node\">\n<title>c5</title>\n<ellipse fill=\"#d3d3d3\" stroke=\"#000000\" cx=\"814.4365\" cy=\"-191\" rx=\"9\" ry=\"9\"/>\n</g>\n<!-- c5&#45;&gt;c0 -->\n<g id=\"edge10\" class=\"edge\">\n<title>c5&#45;&gt;c0</title>\n<path fill=\"none\" stroke=\"#000000\" d=\"M811.6873,-182.2218C802.0359,-151.4051 769.7663,-48.3688 760.1582,-17.6902\"/>\n</g>\n<!-- c5&#45;&gt;c5 -->\n<g id=\"edge9\" class=\"edge\">\n<title>c5&#45;&gt;c5</title>\n<path fill=\"none\" stroke=\"transparent\" d=\"M821.6256,-196.7827C830.6688,-201.4354 841.4365,-199.5078 841.4365,-191 841.4365,-182.4922 830.6688,-180.5646 821.6256,-185.2173\"/>\n<text text-anchor=\"middle\" x=\"815.6372\" y=\"-167.7646\" font-family=\"Times,serif\" font-size=\"14.00\" fill=\"#000000\">term4</text>\n</g>\n<!-- c6 -->\n<g id=\"node7\" class=\"node\">\n<title>c6</title>\n<ellipse fill=\"#d3d3d3\" stroke=\"#000000\" cx=\"605.4365\" cy=\"-100\" rx=\"9\" ry=\"9\"/>\n</g>\n<!-- c6&#45;&gt;c0 -->\n<g id=\"edge13\" class=\"edge\">\n<title>c6&#45;&gt;c0</title>\n<path fill=\"none\" stroke=\"#000000\" d=\"M613.1832,-95.3622C639.1971,-79.7881 723.2631,-29.4591 749.5232,-13.7376\"/>\n</g>\n<!-- c6&#45;&gt;c6 -->\n<g id=\"edge11\" class=\"edge\">\n<title>c6&#45;&gt;c6</title>\n<path fill=\"none\" stroke=\"transparent\" d=\"M614.0074,-103.2186C622.729,-105.1119 632.4365,-104.0391 632.4365,-100 632.4365,-95.9609 622.729,-94.8881 614.0074,-96.7814\"/>\n<text text-anchor=\"middle\" x=\"611.3249\" y=\"-78.3232\" font-family=\"Times,serif\" font-size=\"14.00\" fill=\"#000000\">term6</text>\n</g>\n<!-- c6&#45;&gt;c6 -->\n<g id=\"edge12\" class=\"edge\">\n<title>c6&#45;&gt;c6</title>\n<path fill=\"none\" stroke=\"transparent\" d=\"M613.3948,-104.3506C629.0791,-110.7314 650.4365,-109.2813 650.4365,-100 650.4365,-90.7188 629.0791,-89.2686 613.3948,-95.6494\"/>\n<text text-anchor=\"middle\" x=\"608.4855\" y=\"-114.8245\" font-family=\"Times,serif\" font-size=\"14.00\" fill=\"#000000\">doc1</text>\n</g>\n<!-- c7 -->\n<g id=\"node8\" class=\"node\">\n<title>c7</title>\n<ellipse fill=\"#d3d3d3\" stroke=\"#000000\" cx=\"112.4365\" cy=\"-191\" rx=\"9\" ry=\"9\"/>\n</g>\n<!-- c7&#45;&gt;c0 -->\n<g id=\"edge15\" class=\"edge\">\n<title>c7&#45;&gt;c0</title>\n<path fill=\"none\" stroke=\"#000000\" d=\"M120.8038,-186.7465C149.9597,-172.0379 250.0106,-122.5089 336.4365,-91 494.8946,-33.2298 702.5193,-13.4953 748.2661,-9.7143\"/>\n</g>\n<!-- c7&#45;&gt;c7 -->\n<g id=\"edge14\" class=\"edge\">\n<title>c7&#45;&gt;c7</title>\n<path fill=\"none\" stroke=\"transparent\" d=\"M119.6256,-196.7827C128.6688,-201.4354 139.4365,-199.5078 139.4365,-191 139.4365,-182.4922 128.6688,-180.5646 119.6256,-185.2173\"/>\n<text text-anchor=\"middle\" x=\"113.6372\" y=\"-167.7646\" font-family=\"Times,serif\" font-size=\"14.00\" fill=\"#000000\">term7</text>\n</g>\n<!-- c8 -->\n<g id=\"node9\" class=\"node\">\n<title>c8</title>\n<ellipse fill=\"#d3d3d3\" stroke=\"#000000\" cx=\"1271.4365\" cy=\"-191\" rx=\"9\" ry=\"9\"/>\n</g>\n<!-- c8&#45;&gt;c0 -->\n<g id=\"edge17\" class=\"edge\">\n<title>c8&#45;&gt;c0</title>\n<path fill=\"none\" stroke=\"#000000\" d=\"M1262.6866,-187.6064C1229.2102,-174.6503 1105.989,-127.2123 1003.4365,-91 911.3205,-58.4729 798.6137,-22.1707 766.4113,-11.8647\"/>\n</g>\n<!-- c8&#45;&gt;c8 -->\n<g id=\"edge16\" class=\"edge\">\n<title>c8&#45;&gt;c8</title>\n<path fill=\"none\" stroke=\"transparent\" d=\"M1278.6256,-196.7827C1287.6688,-201.4354 1298.4365,-199.5078 1298.4365,-191 1298.4365,-182.4922 1287.6688,-180.5646 1278.6256,-185.2173\"/>\n<text text-anchor=\"middle\" x=\"1272.6372\" y=\"-167.7646\" font-family=\"Times,serif\" font-size=\"14.00\" fill=\"#000000\">term8</text>\n</g>\n<!-- c9 -->\n<g id=\"node10\" class=\"node\">\n<title>c9</title>\n<ellipse fill=\"#d3d3d3\" stroke=\"#000000\" cx=\"967.4365\" cy=\"-100\" rx=\"9\" ry=\"9\"/>\n</g>\n<!-- c9&#45;&gt;c0 -->\n<g id=\"edge19\" class=\"edge\">\n<title>c9&#45;&gt;c0</title>\n<path fill=\"none\" stroke=\"#000000\" d=\"M958.9442,-96.32C925.0279,-81.6229 799.4957,-27.2256 765.8045,-12.6261\"/>\n</g>\n<!-- c9&#45;&gt;c9 -->\n<g id=\"edge18\" class=\"edge\">\n<title>c9&#45;&gt;c9</title>\n<path fill=\"none\" stroke=\"transparent\" d=\"M974.6256,-105.7827C983.6688,-110.4354 994.4365,-108.5078 994.4365,-100 994.4365,-91.4922 983.6688,-89.5646 974.6256,-94.2173\"/>\n<text text-anchor=\"middle\" x=\"968.6372\" y=\"-76.7646\" font-family=\"Times,serif\" font-size=\"14.00\" fill=\"#000000\">term9</text>\n</g>\n<!-- c10 -->\n<g id=\"node11\" class=\"node\">\n<title>c10</title>\n<ellipse fill=\"#d3d3d3\" stroke=\"#000000\" cx=\"245.4365\" cy=\"-282\" rx=\"9\" ry=\"9\"/>\n</g>\n<!-- c10&#45;&gt;c1 -->\n<g id=\"edge20\" class=\"edge\">\n<title>c10&#45;&gt;c1</title>\n<path fill=\"none\" stroke=\"#000000\" d=\"M245.337,-272.9419C245.1453,-255.499 244.727,-217.4354 244.5357,-200.0215\"/>\n</g>\n<!-- c10&#45;&gt;c2 -->\n<g id=\"edge21\" class=\"edge\">\n<title>c10&#45;&gt;c2</title>\n<path fill=\"none\" stroke=\"#000000\" d=\"M251.2599,-274.64C274.5167,-245.2458 360.596,-136.4513 383.6985,-107.2522\"/>\n</g>\n<!-- c11 -->\n<g id=\"node12\" class=\"node\">\n<title>c11</title>\n<ellipse fill=\"#d3d3d3\" stroke=\"#000000\" cx=\"125.4365\" cy=\"-282\" rx=\"9\" ry=\"9\"/>\n</g>\n<!-- c11&#45;&gt;c1 -->\n<g id=\"edge22\" class=\"edge\">\n<title>c11&#45;&gt;c1</title>\n<path fill=\"none\" stroke=\"#000000\" d=\"M132.8805,-276.3075C154.2513,-259.9652 215.6281,-213.03 236.9954,-196.6903\"/>\n</g>\n<!-- c11&#45;&gt;c7 -->\n<g id=\"edge23\" class=\"edge\">\n<title>c11&#45;&gt;c7</title>\n<path fill=\"none\" stroke=\"#000000\" d=\"M123.6639,-273.0639C121.9101,-264.0041 119.2346,-249.568 117.4365,-237 115.6162,-224.2765 114.1181,-209.4886 113.2506,-200.187\"/>\n</g>\n<!-- c12 -->\n<g id=\"node13\" class=\"node\">\n<title>c12</title>\n<ellipse fill=\"#d3d3d3\" stroke=\"#000000\" cx=\"473.4365\" cy=\"-282\" rx=\"9\" ry=\"9\"/>\n</g>\n<!-- c12&#45;&gt;c1 -->\n<g id=\"edge24\" class=\"edge\">\n<title>c12&#45;&gt;c1</title>\n<path fill=\"none\" stroke=\"#000000\" d=\"M465.0147,-278.6533C429.1872,-264.4162 289.6201,-208.955 253.1796,-194.4743\"/>\n</g>\n<!-- c12&#45;&gt;c9 -->\n<g id=\"edge25\" class=\"edge\">\n<title>c12&#45;&gt;c9</title>\n<path fill=\"none\" stroke=\"#000000\" d=\"M482.0108,-278.841C541.9716,-256.7503 897.8947,-125.6207 958.6262,-103.2459\"/>\n</g>\n<!-- c13 -->\n<g id=\"node14\" class=\"node\">\n<title>c13</title>\n<ellipse fill=\"#d3d3d3\" stroke=\"#000000\" cx=\"579.4365\" cy=\"-191\" rx=\"9\" ry=\"9\"/>\n</g>\n<!-- c13&#45;&gt;c2 -->\n<g id=\"edge26\" class=\"edge\">\n<title>c13&#45;&gt;c2</title>\n<path fill=\"none\" stroke=\"#000000\" d=\"M571.2725,-187.0898C540.1615,-172.1893 429.207,-119.048 397.7842,-103.9981\"/>\n</g>\n<!-- c13&#45;&gt;c3 -->\n<g id=\"edge27\" class=\"edge\">\n<title>c13&#45;&gt;c3</title>\n<path fill=\"none\" stroke=\"#000000\" d=\"M588.1562,-187.7613C626.2596,-173.6086 777.9263,-117.2752 815.8213,-103.1999\"/>\n</g>\n<!-- c14 -->\n<g id=\"node15\" class=\"node\">\n<title>c14</title>\n<ellipse fill=\"#d3d3d3\" stroke=\"#000000\" cx=\"644.4365\" cy=\"-191\" rx=\"9\" ry=\"9\"/>\n</g>\n<!-- c14&#45;&gt;c2 -->\n<g id=\"edge28\" class=\"edge\">\n<title>c14&#45;&gt;c2</title>\n<path fill=\"none\" stroke=\"#000000\" d=\"M635.9522,-187.9723C597.1502,-174.1253 436.8212,-116.9098 397.9527,-103.0391\"/>\n</g>\n<!-- c14&#45;&gt;c4 -->\n<g id=\"edge29\" class=\"edge\">\n<title>c14&#45;&gt;c4</title>\n<path fill=\"none\" stroke=\"#000000\" d=\"M653.1562,-187.7613C691.2596,-173.6086 842.9263,-117.2752 880.8213,-103.1999\"/>\n</g>\n<!-- c15 -->\n<g id=\"node16\" class=\"node\">\n<title>c15</title>\n<ellipse fill=\"#d3d3d3\" stroke=\"#000000\" cx=\"374.4365\" cy=\"-191\" rx=\"9\" ry=\"9\"/>\n</g>\n<!-- c15&#45;&gt;c2 -->\n<g id=\"edge31\" class=\"edge\">\n<title>c15&#45;&gt;c2</title>\n<path fill=\"none\" stroke=\"#000000\" d=\"M373.885,-181.7669C373.5029,-172.4293 373.3792,-157.6141 375.4365,-145 377.5702,-131.9183 382.6098,-117.3728 386.023,-108.4547\"/>\n</g>\n<!-- c15&#45;&gt;c15 -->\n<g id=\"edge30\" class=\"edge\">\n<title>c15&#45;&gt;c15</title>\n<path fill=\"none\" stroke=\"transparent\" d=\"M381.6256,-196.7827C390.6688,-201.4354 401.4365,-199.5078 401.4365,-191 401.4365,-182.4922 390.6688,-180.5646 381.6256,-185.2173\"/>\n<text text-anchor=\"middle\" x=\"375.6372\" y=\"-167.7646\" font-family=\"Times,serif\" font-size=\"14.00\" fill=\"#000000\">term5</text>\n</g>\n<!-- c16 -->\n<g id=\"node17\" class=\"node\">\n<title>c16</title>\n<ellipse fill=\"#d3d3d3\" stroke=\"#000000\" cx=\"511.4365\" cy=\"-191\" rx=\"9\" ry=\"9\"/>\n</g>\n<!-- c16&#45;&gt;c2 -->\n<g id=\"edge32\" class=\"edge\">\n<title>c16&#45;&gt;c2</title>\n<path fill=\"none\" stroke=\"#000000\" d=\"M502.479,-188.9807C483.7903,-184.3622 440.1652,-171.4138 413.4365,-146 402.4696,-135.5725 395.5608,-119.0206 392.1069,-108.8732\"/>\n</g>\n<!-- c16&#45;&gt;c6 -->\n<g id=\"edge33\" class=\"edge\">\n<title>c16&#45;&gt;c6</title>\n<path fill=\"none\" stroke=\"#000000\" d=\"M518.1968,-184.4555C535.5405,-167.6653 581.4613,-123.21 598.7375,-106.4852\"/>\n</g>\n<!-- c17 -->\n<g id=\"node18\" class=\"node\">\n<title>c17</title>\n<ellipse fill=\"#d3d3d3\" stroke=\"#000000\" cx=\"17.4365\" cy=\"-282\" rx=\"9\" ry=\"9\"/>\n</g>\n<!-- c17&#45;&gt;c2 -->\n<g id=\"edge34\" class=\"edge\">\n<title>c17&#45;&gt;c2</title>\n<path fill=\"none\" stroke=\"#000000\" d=\"M21.3695,-273.8299C31.0088,-254.6952 57.7289,-206.7306 94.4365,-182 192.3059,-116.0635 342.2773,-102.8204 380.3871,-100.4658\"/>\n</g>\n<!-- c17&#45;&gt;c7 -->\n<g id=\"edge35\" class=\"edge\">\n<title>c17&#45;&gt;c7</title>\n<path fill=\"none\" stroke=\"#000000\" d=\"M23.9663,-275.7452C41.3213,-259.1209 88.4539,-213.9728 105.8611,-197.2986\"/>\n</g>\n<!-- c18 -->\n<g id=\"node19\" class=\"node\">\n<title>c18</title>\n<ellipse fill=\"#d3d3d3\" stroke=\"#000000\" cx=\"906.4365\" cy=\"-191\" rx=\"9\" ry=\"9\"/>\n</g>\n<!-- c18&#45;&gt;c3 -->\n<g id=\"edge36\" class=\"edge\">\n<title>c18&#45;&gt;c3</title>\n<path fill=\"none\" stroke=\"#000000\" d=\"M900.2732,-184.1602C885.0768,-167.2959 845.9426,-123.8665 830.6714,-106.9192\"/>\n</g>\n<!-- c18&#45;&gt;c4 -->\n<g id=\"edge37\" class=\"edge\">\n<title>c18&#45;&gt;c4</title>\n<path fill=\"none\" stroke=\"#000000\" d=\"M904.7444,-181.9419C901.4858,-164.499 894.375,-126.4354 891.1219,-109.0215\"/>\n</g>\n<!-- c19 -->\n<g id=\"node20\" class=\"node\">\n<title>c19</title>\n<ellipse fill=\"#d3d3d3\" stroke=\"#000000\" cx=\"868.4365\" cy=\"-191\" rx=\"9\" ry=\"9\"/>\n</g>\n<!-- c19&#45;&gt;c3 -->\n<g id=\"edge38\" class=\"edge\">\n<title>c19&#45;&gt;c3</title>\n<path fill=\"none\" stroke=\"#000000\" d=\"M864.376,-182.6021C855.9513,-165.1782 836.6665,-125.2939 828.3606,-108.1156\"/>\n</g>\n<!-- c19&#45;&gt;c6 -->\n<g id=\"edge39\" class=\"edge\">\n<title>c19&#45;&gt;c6</title>\n<path fill=\"none\" stroke=\"#000000\" d=\"M860.4845,-186.722C857.3927,-185.139 853.7927,-183.3926 850.4365,-182 760.5355,-144.6973 647.0071,-111.7156 614.5029,-102.5322\"/>\n</g>\n<!-- c20 -->\n<g id=\"node21\" class=\"node\">\n<title>c20</title>\n<ellipse fill=\"#d3d3d3\" stroke=\"#000000\" cx=\"993.4365\" cy=\"-191\" rx=\"9\" ry=\"9\"/>\n</g>\n<!-- c20&#45;&gt;c4 -->\n<g id=\"edge40\" class=\"edge\">\n<title>c20&#45;&gt;c4</title>\n<path fill=\"none\" stroke=\"#000000\" d=\"M986.6128,-185.0292C967.8138,-168.5801 915.4117,-122.7282 896.4218,-106.1121\"/>\n</g>\n<!-- c20&#45;&gt;c9 -->\n<g id=\"edge41\" class=\"edge\">\n<title>c20&#45;&gt;c9</title>\n<path fill=\"none\" stroke=\"#000000\" d=\"M990.9435,-182.2745C985.9866,-164.9252 974.9421,-126.2695 969.9602,-108.8328\"/>\n</g>\n<!-- c21 -->\n<g id=\"node22\" class=\"node\">\n<title>c21</title>\n<ellipse fill=\"#d3d3d3\" stroke=\"#000000\" cx=\"891.4365\" cy=\"-282\" rx=\"9\" ry=\"9\"/>\n</g>\n<!-- c21&#45;&gt;c5 -->\n<g id=\"edge42\" class=\"edge\">\n<title>c21&#45;&gt;c5</title>\n<path fill=\"none\" stroke=\"#000000\" d=\"M888.083,-273.2737C884.0885,-263.5572 876.7673,-247.6843 867.4365,-236 853.8785,-219.0221 833.184,-203.6721 822.0917,-196.0543\"/>\n</g>\n<!-- c21&#45;&gt;c6 -->\n<g id=\"edge43\" class=\"edge\">\n<title>c21&#45;&gt;c6</title>\n<path fill=\"none\" stroke=\"#000000\" d=\"M883.7867,-277.1319C843.2793,-251.3545 654.1348,-130.9898 613.244,-104.9684\"/>\n</g>\n<!-- c22 -->\n<g id=\"node23\" class=\"node\">\n<title>c22</title>\n<ellipse fill=\"#d3d3d3\" stroke=\"#000000\" cx=\"161.4365\" cy=\"-282\" rx=\"9\" ry=\"9\"/>\n</g>\n<!-- c22&#45;&gt;c6 -->\n<g id=\"edge45\" class=\"edge\">\n<title>c22&#45;&gt;c6</title>\n<path fill=\"none\" stroke=\"#000000\" d=\"M164.4038,-273.408C171.644,-253.8001 192.1746,-205.6289 226.4365,-182 290.1691,-138.0467 545.3072,-106.8824 596.4747,-101.0055\"/>\n</g>\n<!-- c22&#45;&gt;c7 -->\n<g id=\"edge46\" class=\"edge\">\n<title>c22&#45;&gt;c7</title>\n<path fill=\"none\" stroke=\"#000000\" d=\"M157.0881,-273.9244C147.7661,-256.612 125.9556,-216.1068 116.7052,-198.9276\"/>\n</g>\n<!-- c22&#45;&gt;c22 -->\n<g id=\"edge44\" class=\"edge\">\n<title>c22&#45;&gt;c22</title>\n<path fill=\"none\" stroke=\"transparent\" d=\"M168.6256,-287.7827C177.6688,-292.4354 188.4365,-290.5078 188.4365,-282 188.4365,-273.4922 177.6688,-271.5646 168.6256,-276.2173\"/>\n<text text-anchor=\"middle\" x=\"162.6372\" y=\"-297.8354\" font-family=\"Times,serif\" font-size=\"14.00\" fill=\"#000000\">doc2</text>\n</g>\n<!-- c23 -->\n<g id=\"node24\" class=\"node\">\n<title>c23</title>\n<ellipse fill=\"#d3d3d3\" stroke=\"#000000\" cx=\"321.4365\" cy=\"-373\" rx=\"9\" ry=\"9\"/>\n</g>\n<!-- c23&#45;&gt;c10 -->\n<g id=\"edge47\" class=\"edge\">\n<title>c23&#45;&gt;c10</title>\n<path fill=\"none\" stroke=\"#000000\" d=\"M315.4729,-365.8594C301.2659,-348.8483 265.5515,-306.085 251.3724,-289.1074\"/>\n</g>\n<!-- c23&#45;&gt;c15 -->\n<g id=\"edge48\" class=\"edge\">\n<title>c23&#45;&gt;c15</title>\n<path fill=\"none\" stroke=\"#000000\" d=\"M323.9928,-364.2218C332.9669,-333.4051 362.972,-230.3688 371.9059,-199.6902\"/>\n</g>\n<!-- c24 -->\n<g id=\"node25\" class=\"node\">\n<title>c24</title>\n<ellipse fill=\"#d3d3d3\" stroke=\"#000000\" cx=\"435.4365\" cy=\"-373\" rx=\"9\" ry=\"9\"/>\n</g>\n<!-- c24&#45;&gt;c5 -->\n<g id=\"edge49\" class=\"edge\">\n<title>c24&#45;&gt;c5</title>\n<path fill=\"none\" stroke=\"#000000\" d=\"M443.705,-369.0294C493.8256,-344.9609 756.4652,-218.8385 806.277,-194.9183\"/>\n</g>\n<!-- c24&#45;&gt;c11 -->\n<g id=\"edge50\" class=\"edge\">\n<title>c24&#45;&gt;c11</title>\n<path fill=\"none\" stroke=\"#000000\" d=\"M427.4385,-368.816C424.0968,-367.1725 420.137,-365.3585 416.4365,-364 298.5339,-320.7175 260.8722,-335.5342 143.4365,-291 140.039,-289.7116 136.4313,-287.9847 133.3448,-286.3881\"/>\n</g>\n<!-- c25 -->\n<g id=\"node26\" class=\"node\">\n<title>c25</title>\n<ellipse fill=\"#d3d3d3\" stroke=\"#000000\" cx=\"398.4365\" cy=\"-373\" rx=\"9\" ry=\"9\"/>\n</g>\n<!-- c25&#45;&gt;c11 -->\n<g id=\"edge51\" class=\"edge\">\n<title>c25&#45;&gt;c11</title>\n<path fill=\"none\" stroke=\"#000000\" d=\"M389.4534,-370.6476C356.2183,-361.8325 237.302,-329.2974 143.4365,-291 140.0722,-289.6273 136.4707,-287.8846 133.3799,-286.299\"/>\n</g>\n<!-- c25&#45;&gt;c12 -->\n<g id=\"edge52\" class=\"edge\">\n<title>c25&#45;&gt;c12</title>\n<path fill=\"none\" stroke=\"#000000\" d=\"M404.3217,-365.8594C418.3418,-348.8483 453.5863,-306.085 467.5787,-289.1074\"/>\n</g>\n<!-- c26 -->\n<g id=\"node27\" class=\"node\">\n<title>c26</title>\n<ellipse fill=\"#d3d3d3\" stroke=\"#000000\" cx=\"587.4365\" cy=\"-282\" rx=\"9\" ry=\"9\"/>\n</g>\n<!-- c26&#45;&gt;c13 -->\n<g id=\"edge53\" class=\"edge\">\n<title>c26&#45;&gt;c13</title>\n<path fill=\"none\" stroke=\"#000000\" d=\"M583.9655,-273.5544C580.5053,-264.6437 575.4279,-250.1042 573.4365,-237 571.4764,-224.101 574.3997,-209.1065 576.8109,-199.8341\"/>\n</g>\n<!-- c26&#45;&gt;c14 -->\n<g id=\"edge54\" class=\"edge\">\n<title>c26&#45;&gt;c14</title>\n<path fill=\"none\" stroke=\"#000000\" d=\"M591.3197,-273.6481C595.7889,-264.2672 603.5342,-248.6941 611.4365,-236 620.1406,-222.0182 631.8369,-206.7619 638.713,-198.0895\"/>\n</g>\n<!-- c26&#45;&gt;c18 -->\n<g id=\"edge55\" class=\"edge\">\n<title>c26&#45;&gt;c18</title>\n<path fill=\"none\" stroke=\"#000000\" d=\"M596.4022,-280.09C633.018,-272.1755 774.574,-240.465 886.4365,-200 890.3035,-198.6012 894.4673,-196.7808 897.9892,-195.1435\"/>\n</g>\n<!-- c27 -->\n<g id=\"node28\" class=\"node\">\n<title>c27</title>\n<ellipse fill=\"#d3d3d3\" stroke=\"#000000\" cx=\"815.4365\" cy=\"-282\" rx=\"9\" ry=\"9\"/>\n</g>\n<!-- c27&#45;&gt;c13 -->\n<g id=\"edge56\" class=\"edge\">\n<title>c27&#45;&gt;c13</title>\n<path fill=\"none\" stroke=\"#000000\" d=\"M807.0372,-278.7613C770.4156,-264.6402 624.8913,-208.5271 587.9819,-194.295\"/>\n</g>\n<!-- c27&#45;&gt;c16 -->\n<g id=\"edge57\" class=\"edge\">\n<title>c27&#45;&gt;c16</title>\n<path fill=\"none\" stroke=\"#000000\" d=\"M806.6663,-279.3747C762.4687,-266.1445 564.5224,-206.8908 520.2424,-193.636\"/>\n</g>\n<!-- c27&#45;&gt;c19 -->\n<g id=\"edge58\" class=\"edge\">\n<title>c27&#45;&gt;c19</title>\n<path fill=\"none\" stroke=\"#000000\" d=\"M820.1399,-273.9244C830.2229,-256.612 853.8139,-216.1068 863.8194,-198.9276\"/>\n</g>\n<!-- c28 -->\n<g id=\"node29\" class=\"node\">\n<title>c28</title>\n<ellipse fill=\"#d3d3d3\" stroke=\"#000000\" cx=\"739.4365\" cy=\"-282\" rx=\"9\" ry=\"9\"/>\n</g>\n<!-- c28&#45;&gt;c14 -->\n<g id=\"edge59\" class=\"edge\">\n<title>c28&#45;&gt;c14</title>\n<path fill=\"none\" stroke=\"#000000\" d=\"M732.9068,-275.7452C715.5518,-259.1209 668.4191,-213.9728 651.012,-197.2986\"/>\n</g>\n<!-- c28&#45;&gt;c20 -->\n<g id=\"edge60\" class=\"edge\">\n<title>c28&#45;&gt;c20</title>\n<path fill=\"none\" stroke=\"#000000\" d=\"M748.2917,-280.3073C773.4567,-275.3479 847.3255,-259.7528 905.4365,-237 936.2574,-224.9324 970.347,-205.0912 985.4654,-195.9248\"/>\n</g>\n<!-- c29 -->\n<g id=\"node30\" class=\"node\">\n<title>c29</title>\n<ellipse fill=\"#d3d3d3\" stroke=\"#000000\" cx=\"550.4365\" cy=\"-282\" rx=\"9\" ry=\"9\"/>\n</g>\n<!-- c29&#45;&gt;c15 -->\n<g id=\"edge61\" class=\"edge\">\n<title>c29&#45;&gt;c15</title>\n<path fill=\"none\" stroke=\"#000000\" d=\"M542.4168,-277.8535C513.0969,-262.6937 411.9001,-210.3704 382.5033,-195.1709\"/>\n</g>\n<!-- c29&#45;&gt;c16 -->\n<g id=\"edge62\" class=\"edge\">\n<title>c29&#45;&gt;c16</title>\n<path fill=\"none\" stroke=\"#000000\" d=\"M546.8374,-273.6021C539.4078,-256.2662 522.4492,-216.6962 515.027,-199.3777\"/>\n</g>\n<!-- c30 -->\n<g id=\"node31\" class=\"node\">\n<title>c30</title>\n<ellipse fill=\"#d3d3d3\" stroke=\"#000000\" cx=\"1101.4365\" cy=\"-282\" rx=\"9\" ry=\"9\"/>\n</g>\n<!-- c30&#45;&gt;c8 -->\n<g id=\"edge63\" class=\"edge\">\n<title>c30&#45;&gt;c8</title>\n<path fill=\"none\" stroke=\"#000000\" d=\"M1109.636,-277.6109C1138.4208,-262.2025 1234.6635,-210.6844 1263.3194,-195.3451\"/>\n</g>\n<!-- c30&#45;&gt;c19 -->\n<g id=\"edge64\" class=\"edge\">\n<title>c30&#45;&gt;c19</title>\n<path fill=\"none\" stroke=\"#000000\" d=\"M1092.8466,-278.8875C1063.8588,-268.3428 967.0641,-232.7966 888.4365,-200 884.6413,-198.4169 880.4887,-196.5678 876.9557,-194.9588\"/>\n</g>\n<!-- c31 -->\n<g id=\"node32\" class=\"node\">\n<title>c31</title>\n<ellipse fill=\"#d3d3d3\" stroke=\"#000000\" cx=\"1157.4365\" cy=\"-282\" rx=\"9\" ry=\"9\"/>\n</g>\n<!-- c31&#45;&gt;c5 -->\n<g id=\"edge65\" class=\"edge\">\n<title>c31&#45;&gt;c5</title>\n<path fill=\"none\" stroke=\"#000000\" d=\"M1148.6131,-279.6591C1100.5881,-266.9178 871.0794,-206.0277 823.2016,-193.3254\"/>\n</g>\n<!-- c31&#45;&gt;c8 -->\n<g id=\"edge66\" class=\"edge\">\n<title>c31&#45;&gt;c8</title>\n<path fill=\"none\" stroke=\"#000000\" d=\"M1166.1932,-279.62C1183.6393,-274.4896 1223.1421,-260.8791 1247.4365,-237 1258.229,-226.392 1265.1923,-209.8965 1268.7043,-199.8093\"/>\n</g>\n<!-- c31&#45;&gt;c9 -->\n<g id=\"edge67\" class=\"edge\">\n<title>c31&#45;&gt;c9</title>\n<path fill=\"none\" stroke=\"#000000\" d=\"M1150.6743,-275.5225C1121.1909,-247.2805 1004.0315,-135.0541 974.3163,-106.5901\"/>\n</g>\n<!-- c32 -->\n<g id=\"node33\" class=\"node\">\n<title>c32</title>\n<ellipse fill=\"#d3d3d3\" stroke=\"#000000\" cx=\"473.4365\" cy=\"-373\" rx=\"9\" ry=\"9\"/>\n</g>\n<!-- c32&#45;&gt;c10 -->\n<g id=\"edge68\" class=\"edge\">\n<title>c32&#45;&gt;c10</title>\n<path fill=\"none\" stroke=\"#000000\" d=\"M464.9109,-369.0565C461.377,-367.4498 457.2254,-365.5983 453.4365,-364 376.9013,-331.7146 282.9748,-296.1055 254.2152,-285.2902\"/>\n</g>\n<!-- c32&#45;&gt;c12 -->\n<g id=\"edge69\" class=\"edge\">\n<title>c32&#45;&gt;c12</title>\n<path fill=\"none\" stroke=\"#000000\" d=\"M473.4365,-363.9419C473.4365,-346.499 473.4365,-308.4354 473.4365,-291.0215\"/>\n</g>\n<!-- c32&#45;&gt;c28 -->\n<g id=\"edge70\" class=\"edge\">\n<title>c32&#45;&gt;c28</title>\n<path fill=\"none\" stroke=\"#000000\" d=\"M481.9856,-370.0753C522.0021,-356.3855 690.5518,-298.7237 730.7857,-284.9595\"/>\n</g>\n<!-- c33 -->\n<g id=\"node34\" class=\"node\">\n<title>c33</title>\n<ellipse fill=\"#d3d3d3\" stroke=\"#000000\" cx=\"131.4365\" cy=\"-373\" rx=\"9\" ry=\"9\"/>\n</g>\n<!-- c33&#45;&gt;c10 -->\n<g id=\"edge71\" class=\"edge\">\n<title>c33&#45;&gt;c10</title>\n<path fill=\"none\" stroke=\"#000000\" d=\"M134.1688,-364.1907C137.6808,-354.1035 144.6441,-337.608 155.4365,-327 179.7309,-303.1209 219.2337,-289.5104 236.6799,-284.38\"/>\n</g>\n<!-- c33&#45;&gt;c11 -->\n<g id=\"edge72\" class=\"edge\">\n<title>c33&#45;&gt;c11</title>\n<path fill=\"none\" stroke=\"#000000\" d=\"M123.1778,-368.8474C110.9411,-362.1695 88.4693,-347.7622 79.4365,-328 70.3282,-308.0724 101.4416,-291.9307 117.0463,-285.2809\"/>\n</g>\n<!-- c33&#45;&gt;c16 -->\n<g id=\"edge73\" class=\"edge\">\n<title>c33&#45;&gt;c16</title>\n<path fill=\"none\" stroke=\"#000000\" d=\"M139.7268,-369.0294C189.9797,-344.9609 453.3122,-218.8385 503.2554,-194.9183\"/>\n</g>\n<!-- c33&#45;&gt;c17 -->\n<g id=\"edge74\" class=\"edge\">\n<title>c33&#45;&gt;c17</title>\n<path fill=\"none\" stroke=\"#000000\" d=\"M122.2934,-371.1972C95.4421,-365.6992 17.8023,-348.2781 3.4365,-328 -5.0566,-316.0115 4.7455,-298.765 11.7012,-289.1567\"/>\n</g>\n<!-- c33&#45;&gt;c22 -->\n<g id=\"edge75\" class=\"edge\">\n<title>c33&#45;&gt;c22</title>\n<path fill=\"none\" stroke=\"#000000\" d=\"M126.1531,-365.6868C120.1995,-356.4906 112.0165,-340.2959 117.4365,-327 124.7783,-308.9898 143.1827,-294.2694 153.7162,-286.9711\"/>\n</g>\n<!-- c34 -->\n<g id=\"node35\" class=\"node\">\n<title>c34</title>\n<ellipse fill=\"#d3d3d3\" stroke=\"#000000\" cx=\"267.4365\" cy=\"-373\" rx=\"9\" ry=\"9\"/>\n</g>\n<!-- c34&#45;&gt;c17 -->\n<g id=\"edge77\" class=\"edge\">\n<title>c34&#45;&gt;c17</title>\n<path fill=\"none\" stroke=\"#000000\" d=\"M258.831,-369.8676C220.366,-355.8663 64.3971,-299.0936 26.0059,-285.1193\"/>\n</g>\n<!-- c34&#45;&gt;c26 -->\n<g id=\"edge78\" class=\"edge\">\n<title>c34&#45;&gt;c26</title>\n<path fill=\"none\" stroke=\"#000000\" d=\"M276.4122,-370.656C323.3454,-358.3856 539.4807,-301.7068 568.4365,-291 572.1338,-289.6329 576.0931,-287.8175 579.4353,-286.1753\"/>\n</g>\n<!-- c34&#45;&gt;c34 -->\n<g id=\"edge76\" class=\"edge\">\n<title>c34&#45;&gt;c34</title>\n<path fill=\"none\" stroke=\"transparent\" d=\"M274.6256,-378.7827C283.6688,-383.4354 294.4365,-381.5078 294.4365,-373 294.4365,-364.4922 283.6688,-362.5646 274.6256,-367.2173\"/>\n<text text-anchor=\"middle\" x=\"268.6372\" y=\"-388.8354\" font-family=\"Times,serif\" font-size=\"14.00\" fill=\"#000000\">doc9</text>\n</g>\n<!-- c35 -->\n<g id=\"node36\" class=\"node\">\n<title>c35</title>\n<ellipse fill=\"#d3d3d3\" stroke=\"#000000\" cx=\"738.4365\" cy=\"-373\" rx=\"9\" ry=\"9\"/>\n</g>\n<!-- c35&#45;&gt;c15 -->\n<g id=\"edge79\" class=\"edge\">\n<title>c35&#45;&gt;c15</title>\n<path fill=\"none\" stroke=\"#000000\" d=\"M729.5473,-370.1244C700.4671,-360.5795 605.8219,-328.4204 532.4365,-291 471.7043,-260.0316 404.2907,-212.5795 382.0248,-196.5263\"/>\n</g>\n<!-- c35&#45;&gt;c28 -->\n<g id=\"edge80\" class=\"edge\">\n<title>c35&#45;&gt;c28</title>\n<path fill=\"none\" stroke=\"#000000\" d=\"M738.5361,-363.9419C738.7278,-346.499 739.146,-308.4354 739.3374,-291.0215\"/>\n</g>\n<!-- c36 -->\n<g id=\"node37\" class=\"node\">\n<title>c36</title>\n<ellipse fill=\"#d3d3d3\" stroke=\"#000000\" cx=\"644.4365\" cy=\"-373\" rx=\"9\" ry=\"9\"/>\n</g>\n<!-- c36&#45;&gt;c21 -->\n<g id=\"edge81\" class=\"edge\">\n<title>c36&#45;&gt;c21</title>\n<path fill=\"none\" stroke=\"#000000\" d=\"M652.9388,-369.8676C690.9423,-355.8663 845.0395,-299.0936 882.97,-285.1193\"/>\n</g>\n<!-- c36&#45;&gt;c29 -->\n<g id=\"edge82\" class=\"edge\">\n<title>c36&#45;&gt;c29</title>\n<path fill=\"none\" stroke=\"#000000\" d=\"M637.6763,-366.4555C620.3326,-349.6653 574.4117,-305.21 557.1355,-288.4852\"/>\n</g>\n<!-- c37 -->\n<g id=\"node38\" class=\"node\">\n<title>c37</title>\n<ellipse fill=\"#d3d3d3\" stroke=\"#000000\" cx=\"1043.4365\" cy=\"-282\" rx=\"9\" ry=\"9\"/>\n</g>\n<!-- c37&#45;&gt;c18 -->\n<g id=\"edge83\" class=\"edge\">\n<title>c37&#45;&gt;c18</title>\n<path fill=\"none\" stroke=\"#000000\" d=\"M1036.3473,-276.3836C1024.9976,-267.4743 1001.9374,-249.7077 981.4365,-236 957.7054,-220.1323 928.3813,-203.3015 914.4774,-195.4797\"/>\n</g>\n<!-- c37&#45;&gt;c19 -->\n<g id=\"edge84\" class=\"edge\">\n<title>c37&#45;&gt;c19</title>\n<path fill=\"none\" stroke=\"#000000\" d=\"M1034.9959,-277.6109C1005.3645,-262.2025 906.2912,-210.6844 876.7925,-195.3451\"/>\n</g>\n<!-- c37&#45;&gt;c20 -->\n<g id=\"edge85\" class=\"edge\">\n<title>c37&#45;&gt;c20</title>\n<path fill=\"none\" stroke=\"#000000\" d=\"M1048.8861,-274.8324C1055.2575,-265.5088 1064.1309,-248.8905 1057.4365,-236 1045.6676,-213.3381 1016.6687,-199.6921 1002.0934,-194.0416\"/>\n</g>\n<!-- c38 -->\n<g id=\"node39\" class=\"node\">\n<title>c38</title>\n<ellipse fill=\"#d3d3d3\" stroke=\"#000000\" cx=\"473.4365\" cy=\"-464\" rx=\"9\" ry=\"9\"/>\n</g>\n<!-- c38&#45;&gt;c23 -->\n<g id=\"edge87\" class=\"edge\">\n<title>c38&#45;&gt;c23</title>\n<path fill=\"none\" stroke=\"#000000\" d=\"M465.6899,-459.3622C439.676,-443.7881 355.61,-393.4591 329.3499,-377.7376\"/>\n</g>\n<!-- c38&#45;&gt;c32 -->\n<g id=\"edge88\" class=\"edge\">\n<title>c38&#45;&gt;c32</title>\n<path fill=\"none\" stroke=\"#000000\" d=\"M473.4365,-454.9419C473.4365,-437.499 473.4365,-399.4354 473.4365,-382.0215\"/>\n</g>\n<!-- c38&#45;&gt;c35 -->\n<g id=\"edge89\" class=\"edge\">\n<title>c38&#45;&gt;c35</title>\n<path fill=\"none\" stroke=\"#000000\" d=\"M481.9534,-461.0753C521.8195,-447.3855 689.7356,-389.7237 729.8182,-375.9595\"/>\n</g>\n<!-- c38&#45;&gt;c38 -->\n<g id=\"edge86\" class=\"edge\">\n<title>c38&#45;&gt;c38</title>\n<path fill=\"none\" stroke=\"transparent\" d=\"M480.6256,-469.7827C489.6688,-474.4354 500.4365,-472.5078 500.4365,-464 500.4365,-455.4922 489.6688,-453.5646 480.6256,-458.2173\"/>\n<text text-anchor=\"middle\" x=\"474.6372\" y=\"-479.8354\" font-family=\"Times,serif\" font-size=\"14.00\" fill=\"#000000\">doc0</text>\n</g>\n<!-- c39 -->\n<g id=\"node40\" class=\"node\">\n<title>c39</title>\n<ellipse fill=\"#d3d3d3\" stroke=\"#000000\" cx=\"625.4365\" cy=\"-464\" rx=\"9\" ry=\"9\"/>\n</g>\n<!-- c39&#45;&gt;c24 -->\n<g id=\"edge91\" class=\"edge\">\n<title>c39&#45;&gt;c24</title>\n<path fill=\"none\" stroke=\"#000000\" d=\"M623.2079,-455.1165C620.1109,-444.6404 613.4788,-427.4591 601.4365,-418 548.8793,-376.7168 518.6127,-403.8021 455.4365,-382 451.5493,-380.6585 447.3823,-378.8471 443.8635,-377.201\"/>\n</g>\n<!-- c39&#45;&gt;c25 -->\n<g id=\"edge92\" class=\"edge\">\n<title>c39&#45;&gt;c25</title>\n<path fill=\"none\" stroke=\"#000000\" d=\"M616.6321,-460.77C587.7937,-450.1391 493.653,-415.0308 417.4365,-382 413.8196,-380.4325 409.8729,-378.5858 406.5184,-376.9744\"/>\n</g>\n<!-- c39&#45;&gt;c31 -->\n<g id=\"edge93\" class=\"edge\">\n<title>c39&#45;&gt;c31</title>\n<path fill=\"none\" stroke=\"#000000\" d=\"M634.5623,-463.2399C691.6612,-458.355 999.916,-430.0494 1079.4365,-382 1117.503,-358.9988 1144.0602,-310.0344 1153.5702,-290.401\"/>\n</g>\n<!-- c39&#45;&gt;c39 -->\n<g id=\"edge90\" class=\"edge\">\n<title>c39&#45;&gt;c39</title>\n<path fill=\"none\" stroke=\"transparent\" d=\"M632.6256,-469.7827C641.6688,-474.4354 652.4365,-472.5078 652.4365,-464 652.4365,-455.4922 641.6688,-453.5646 632.6256,-458.2173\"/>\n<text text-anchor=\"middle\" x=\"626.6372\" y=\"-479.8354\" font-family=\"Times,serif\" font-size=\"14.00\" fill=\"#000000\">doc6</text>\n</g>\n<!-- c40 -->\n<g id=\"node41\" class=\"node\">\n<title>c40</title>\n<ellipse fill=\"#d3d3d3\" stroke=\"#000000\" cx=\"777.4365\" cy=\"-373\" rx=\"9\" ry=\"9\"/>\n</g>\n<!-- c40&#45;&gt;c26 -->\n<g id=\"edge94\" class=\"edge\">\n<title>c40&#45;&gt;c26</title>\n<path fill=\"none\" stroke=\"#000000\" d=\"M769.2725,-369.0898C738.1615,-354.1893 627.207,-301.048 595.7842,-285.9981\"/>\n</g>\n<!-- c40&#45;&gt;c27 -->\n<g id=\"edge95\" class=\"edge\">\n<title>c40&#45;&gt;c27</title>\n<path fill=\"none\" stroke=\"#000000\" d=\"M780.9434,-364.6021C788.1825,-347.2662 804.7063,-307.6962 811.9382,-290.3777\"/>\n</g>\n<!-- c40&#45;&gt;c28 -->\n<g id=\"edge96\" class=\"edge\">\n<title>c40&#45;&gt;c28</title>\n<path fill=\"none\" stroke=\"#000000\" d=\"M773.9297,-364.6021C766.6905,-347.2662 750.1668,-307.6962 742.9349,-290.3777\"/>\n</g>\n<!-- c40&#45;&gt;c37 -->\n<g id=\"edge97\" class=\"edge\">\n<title>c40&#45;&gt;c37</title>\n<path fill=\"none\" stroke=\"#000000\" d=\"M785.9856,-370.0753C826.0021,-356.3855 994.5518,-298.7237 1034.7857,-284.9595\"/>\n</g>\n<!-- c41 -->\n<g id=\"node42\" class=\"node\">\n<title>c41</title>\n<ellipse fill=\"#d3d3d3\" stroke=\"#000000\" cx=\"872.4365\" cy=\"-373\" rx=\"9\" ry=\"9\"/>\n</g>\n<!-- c41&#45;&gt;c27 -->\n<g id=\"edge99\" class=\"edge\">\n<title>c41&#45;&gt;c27</title>\n<path fill=\"none\" stroke=\"#000000\" d=\"M873.3334,-363.9681C873.8851,-354.2649 873.5535,-338.6682 867.4365,-327 857.3477,-307.7555 835.3215,-293.1298 823.4305,-286.2824\"/>\n</g>\n<!-- c41&#45;&gt;c29 -->\n<g id=\"edge100\" class=\"edge\">\n<title>c41&#45;&gt;c29</title>\n<path fill=\"none\" stroke=\"#000000\" d=\"M863.3306,-371.1578C826.1463,-363.5063 682.4336,-332.6748 569.4365,-291 565.7381,-289.636 561.7786,-287.821 558.4366,-286.1784\"/>\n</g>\n<!-- c41&#45;&gt;c30 -->\n<g id=\"edge101\" class=\"edge\">\n<title>c41&#45;&gt;c30</title>\n<path fill=\"none\" stroke=\"#000000\" d=\"M880.8583,-369.6533C916.6859,-355.4162 1056.253,-299.955 1092.6935,-285.4743\"/>\n</g>\n<!-- c41&#45;&gt;c41 -->\n<g id=\"edge98\" class=\"edge\">\n<title>c41&#45;&gt;c41</title>\n<path fill=\"none\" stroke=\"transparent\" d=\"M879.6256,-378.7827C888.6688,-383.4354 899.4365,-381.5078 899.4365,-373 899.4365,-364.4922 888.6688,-362.5646 879.6256,-367.2173\"/>\n<text text-anchor=\"middle\" x=\"873.6372\" y=\"-388.8354\" font-family=\"Times,serif\" font-size=\"14.00\" fill=\"#000000\">doc5</text>\n</g>\n<!-- c42 -->\n<g id=\"node43\" class=\"node\">\n<title>c42</title>\n<ellipse fill=\"#d3d3d3\" stroke=\"#000000\" cx=\"359.4365\" cy=\"-464\" rx=\"9\" ry=\"9\"/>\n</g>\n<!-- c42&#45;&gt;c23 -->\n<g id=\"edge103\" class=\"edge\">\n<title>c42&#45;&gt;c23</title>\n<path fill=\"none\" stroke=\"#000000\" d=\"M351.1778,-459.8474C338.9411,-453.1695 316.4693,-438.7622 307.4365,-419 301.4677,-405.9412 309.8393,-389.665 315.9758,-380.3898\"/>\n</g>\n<!-- c42&#45;&gt;c24 -->\n<g id=\"edge104\" class=\"edge\">\n<title>c42&#45;&gt;c24</title>\n<path fill=\"none\" stroke=\"#000000\" d=\"M365.4001,-456.8594C379.6072,-439.8483 415.3216,-397.085 429.5006,-380.1074\"/>\n</g>\n<!-- c42&#45;&gt;c33 -->\n<g id=\"edge105\" class=\"edge\">\n<title>c42&#45;&gt;c33</title>\n<path fill=\"none\" stroke=\"#000000\" d=\"M351.0515,-460.6533C315.3804,-446.4162 176.4228,-390.955 140.1414,-376.4743\"/>\n</g>\n<!-- c42&#45;&gt;c36 -->\n<g id=\"edge106\" class=\"edge\">\n<title>c42&#45;&gt;c36</title>\n<path fill=\"none\" stroke=\"#000000\" d=\"M368.2785,-461.1768C410.7462,-447.6169 593.4578,-389.2774 635.6976,-375.7903\"/>\n</g>\n<!-- c42&#45;&gt;c42 -->\n<g id=\"edge102\" class=\"edge\">\n<title>c42&#45;&gt;c42</title>\n<path fill=\"none\" stroke=\"transparent\" d=\"M366.6256,-469.7827C375.6688,-474.4354 386.4365,-472.5078 386.4365,-464 386.4365,-455.4922 375.6688,-453.5646 366.6256,-458.2173\"/>\n<text text-anchor=\"middle\" x=\"360.6372\" y=\"-479.8354\" font-family=\"Times,serif\" font-size=\"14.00\" fill=\"#000000\">doc4</text>\n</g>\n<!-- c43 -->\n<g id=\"node44\" class=\"node\">\n<title>c43</title>\n<ellipse fill=\"#d3d3d3\" stroke=\"#000000\" cx=\"1043.4365\" cy=\"-373\" rx=\"9\" ry=\"9\"/>\n</g>\n<!-- c43&#45;&gt;c21 -->\n<g id=\"edge108\" class=\"edge\">\n<title>c43&#45;&gt;c21</title>\n<path fill=\"none\" stroke=\"#000000\" d=\"M1035.6899,-368.3622C1009.676,-352.7881 925.61,-302.4591 899.3499,-286.7376\"/>\n</g>\n<!-- c43&#45;&gt;c30 -->\n<g id=\"edge109\" class=\"edge\">\n<title>c43&#45;&gt;c30</title>\n<path fill=\"none\" stroke=\"#000000\" d=\"M1048.3816,-365.2414C1059.3394,-348.0489 1085.5578,-306.9132 1096.504,-289.739\"/>\n</g>\n<!-- c43&#45;&gt;c31 -->\n<g id=\"edge110\" class=\"edge\">\n<title>c43&#45;&gt;c31</title>\n<path fill=\"none\" stroke=\"#000000\" d=\"M1050.5677,-367.3075C1071.0406,-350.9652 1129.8385,-304.03 1150.308,-287.6903\"/>\n</g>\n<!-- c43&#45;&gt;c37 -->\n<g id=\"edge111\" class=\"edge\">\n<title>c43&#45;&gt;c37</title>\n<path fill=\"none\" stroke=\"#000000\" d=\"M1043.4365,-363.9419C1043.4365,-346.499 1043.4365,-308.4354 1043.4365,-291.0215\"/>\n</g>\n<!-- c43&#45;&gt;c43 -->\n<g id=\"edge107\" class=\"edge\">\n<title>c43&#45;&gt;c43</title>\n<path fill=\"none\" stroke=\"transparent\" d=\"M1050.6256,-378.7827C1059.6688,-383.4354 1070.4365,-381.5078 1070.4365,-373 1070.4365,-364.4922 1059.6688,-362.5646 1050.6256,-367.2173\"/>\n<text text-anchor=\"middle\" x=\"1044.6372\" y=\"-388.8354\" font-family=\"Times,serif\" font-size=\"14.00\" fill=\"#000000\">doc7</text>\n</g>\n<!-- c44 -->\n<g id=\"node45\" class=\"node\">\n<title>c44</title>\n<ellipse fill=\"#d3d3d3\" stroke=\"#000000\" cx=\"416.4365\" cy=\"-464\" rx=\"9\" ry=\"9\"/>\n</g>\n<!-- c44&#45;&gt;c25 -->\n<g id=\"edge113\" class=\"edge\">\n<title>c44&#45;&gt;c25</title>\n<path fill=\"none\" stroke=\"#000000\" d=\"M414.6448,-454.9419C411.1946,-437.499 403.6655,-399.4354 400.221,-382.0215\"/>\n</g>\n<!-- c44&#45;&gt;c32 -->\n<g id=\"edge114\" class=\"edge\">\n<title>c44&#45;&gt;c32</title>\n<path fill=\"none\" stroke=\"#000000\" d=\"M421.2963,-456.2414C432.0652,-439.0489 457.8316,-397.9132 468.589,-380.739\"/>\n</g>\n<!-- c44&#45;&gt;c33 -->\n<g id=\"edge115\" class=\"edge\">\n<title>c44&#45;&gt;c33</title>\n<path fill=\"none\" stroke=\"#000000\" d=\"M407.9349,-460.1186C404.1457,-458.4506 399.6051,-456.536 395.4365,-455 296.8128,-418.6611 173.7258,-384.486 140.2062,-375.3663\"/>\n</g>\n<!-- c44&#45;&gt;c34 -->\n<g id=\"edge116\" class=\"edge\">\n<title>c44&#45;&gt;c34</title>\n<path fill=\"none\" stroke=\"#000000\" d=\"M407.8676,-460.2896C404.066,-458.6533 399.5342,-456.7161 395.4365,-455 356.4593,-438.6765 341.7874,-443.6109 307.4365,-419 292.4673,-408.2752 279.3678,-390.8785 272.5119,-380.8342\"/>\n</g>\n<!-- c44&#45;&gt;c40 -->\n<g id=\"edge117\" class=\"edge\">\n<title>c44&#45;&gt;c40</title>\n<path fill=\"none\" stroke=\"#000000\" d=\"M425.2201,-461.975C475.2618,-450.4257 723.3033,-393.0085 756.4365,-382 760.6525,-380.5993 765.199,-378.7015 768.9799,-377.0097\"/>\n</g>\n<!-- c44&#45;&gt;c44 -->\n<g id=\"edge112\" class=\"edge\">\n<title>c44&#45;&gt;c44</title>\n<path fill=\"none\" stroke=\"transparent\" d=\"M423.6256,-469.7827C432.6688,-474.4354 443.4365,-472.5078 443.4365,-464 443.4365,-455.4922 432.6688,-453.5646 423.6256,-458.2173\"/>\n<text text-anchor=\"middle\" x=\"417.6372\" y=\"-479.8354\" font-family=\"Times,serif\" font-size=\"14.00\" fill=\"#000000\">doc3</text>\n</g>\n<!-- c45 -->\n<g id=\"node46\" class=\"node\">\n<title>c45</title>\n<ellipse fill=\"#d3d3d3\" stroke=\"#000000\" cx=\"758.4365\" cy=\"-464\" rx=\"9\" ry=\"9\"/>\n</g>\n<!-- c45&#45;&gt;c35 -->\n<g id=\"edge119\" class=\"edge\">\n<title>c45&#45;&gt;c35</title>\n<path fill=\"none\" stroke=\"#000000\" d=\"M756.4457,-454.9419C752.6121,-437.499 744.2465,-399.4354 740.4193,-382.0215\"/>\n</g>\n<!-- c45&#45;&gt;c36 -->\n<g id=\"edge120\" class=\"edge\">\n<title>c45&#45;&gt;c36</title>\n<path fill=\"none\" stroke=\"#000000\" d=\"M751.3053,-458.3075C730.8325,-441.9652 672.0345,-395.03 651.565,-378.6903\"/>\n</g>\n<!-- c45&#45;&gt;c40 -->\n<g id=\"edge121\" class=\"edge\">\n<title>c45&#45;&gt;c40</title>\n<path fill=\"none\" stroke=\"#000000\" d=\"M760.3278,-454.9419C763.9697,-437.499 771.917,-399.4354 775.5529,-382.0215\"/>\n</g>\n<!-- c45&#45;&gt;c41 -->\n<g id=\"edge122\" class=\"edge\">\n<title>c45&#45;&gt;c41</title>\n<path fill=\"none\" stroke=\"#000000\" d=\"M765.5677,-458.3075C786.0406,-441.9652 844.8385,-395.03 865.308,-378.6903\"/>\n</g>\n<!-- c45&#45;&gt;c43 -->\n<g id=\"edge123\" class=\"edge\">\n<title>c45&#45;&gt;c43</title>\n<path fill=\"none\" stroke=\"#000000\" d=\"M767.2785,-461.1768C809.7462,-447.6169 992.4578,-389.2774 1034.6976,-375.7903\"/>\n</g>\n<!-- c45&#45;&gt;c45 -->\n<g id=\"edge118\" class=\"edge\">\n<title>c45&#45;&gt;c45</title>\n<path fill=\"none\" stroke=\"transparent\" d=\"M765.6256,-469.7827C774.6688,-474.4354 785.4365,-472.5078 785.4365,-464 785.4365,-455.4922 774.6688,-453.5646 765.6256,-458.2173\"/>\n<text text-anchor=\"middle\" x=\"759.6372\" y=\"-479.8354\" font-family=\"Times,serif\" font-size=\"14.00\" fill=\"#000000\">doc8</text>\n</g>\n<!-- c46 -->\n<g id=\"node47\" class=\"node\">\n<title>c46</title>\n<ellipse fill=\"#d3d3d3\" stroke=\"#000000\" cx=\"473.4365\" cy=\"-555\" rx=\"9\" ry=\"9\"/>\n</g>\n<!-- c46&#45;&gt;c38 -->\n<g id=\"edge124\" class=\"edge\">\n<title>c46&#45;&gt;c38</title>\n<path fill=\"none\" stroke=\"#000000\" d=\"M473.4365,-545.9419C473.4365,-528.499 473.4365,-490.4354 473.4365,-473.0215\"/>\n</g>\n<!-- c46&#45;&gt;c39 -->\n<g id=\"edge125\" class=\"edge\">\n<title>c46&#45;&gt;c39</title>\n<path fill=\"none\" stroke=\"#000000\" d=\"M481.1832,-550.3622C507.1971,-534.7881 591.2631,-484.4591 617.5232,-468.7376\"/>\n</g>\n<!-- c46&#45;&gt;c42 -->\n<g id=\"edge126\" class=\"edge\">\n<title>c46&#45;&gt;c42</title>\n<path fill=\"none\" stroke=\"#000000\" d=\"M466.3053,-549.3075C445.8325,-532.9652 387.0345,-486.03 366.565,-469.6903\"/>\n</g>\n<!-- c46&#45;&gt;c44 -->\n<g id=\"edge127\" class=\"edge\">\n<title>c46&#45;&gt;c44</title>\n<path fill=\"none\" stroke=\"#000000\" d=\"M468.5767,-547.2414C457.8078,-530.0489 432.0415,-488.9132 421.284,-471.739\"/>\n</g>\n<!-- c46&#45;&gt;c45 -->\n<g id=\"edge128\" class=\"edge\">\n<title>c46&#45;&gt;c45</title>\n<path fill=\"none\" stroke=\"#000000\" d=\"M482.2785,-552.1768C524.7462,-538.6169 707.4578,-480.2774 749.6976,-466.7903\"/>\n</g>\n</g>\n</svg>\n"
          },
          "metadata": {},
          "execution_count": 6
        }
      ]
    },
    {
      "cell_type": "code",
      "metadata": {
        "id": "iVP_iqMaQHIJ"
      },
      "source": [],
      "execution_count": null,
      "outputs": []
    }
  ]
}